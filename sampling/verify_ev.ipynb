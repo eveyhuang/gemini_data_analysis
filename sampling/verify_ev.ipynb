{
 "cells": [
  {
   "cell_type": "code",
   "execution_count": 1,
   "id": "6a25aa01",
   "metadata": {},
   "outputs": [],
   "source": [
    "import pandas as pd"
   ]
  },
  {
   "cell_type": "code",
   "execution_count": 5,
   "id": "3390eef7",
   "metadata": {},
   "outputs": [],
   "source": [
    "ev_df = pd.read_csv('ev-verification.csv')\n",
    "mx_df = pd.read_csv('max-verification.csv')\n",
    "gm_df = pd.read_csv('gemini-coding.csv')"
   ]
  },
  {
   "cell_type": "code",
   "execution_count": null,
   "id": "5ea2f666",
   "metadata": {},
   "outputs": [],
   "source": [
    "columns_to_drop =['nods_others', 'smile_self','smile_other', 'distracted_others', 'hand_gesture','interuption', 'overlap','screenshare', 'screenshare_content']"
   ]
  },
  {
   "cell_type": "code",
   "execution_count": 6,
   "id": "12e8e8a2",
   "metadata": {},
   "outputs": [
    {
     "name": "stdout",
     "output_type": "stream",
     "text": [
      "Index(['link to video', 'timestamp', 'speaker', 'transcript', 'annotations',\n",
      "       'c1', 'c1-vf', 'c1-ep', 'c2', 'c2-vf', 'c2-ep', 'c3', 'c3-vf', 'c3-ep',\n",
      "       'c4', 'c4-vf', 'c4-ep', 'notes1', 'notes2'],\n",
      "      dtype='object')\n"
     ]
    }
   ],
   "source": [
    "print(ev_df.columns)"
   ]
  },
  {
   "cell_type": "code",
   "execution_count": 7,
   "id": "ac983157",
   "metadata": {},
   "outputs": [
    {
     "name": "stdout",
     "output_type": "stream",
     "text": [
      "Index(['link to video', 'timestamp', 'speaker', 'transcript', 'annotations',\n",
      "       'c1', 'c1-vf', 'c1-ep', 'c2', 'c2-vf', 'c2-ep', 'c3', 'c3-vf', 'c3-ep',\n",
      "       'c4', 'c4-vf', 'c4-ep', 'notes1', 'notes2'],\n",
      "      dtype='object')\n"
     ]
    }
   ],
   "source": [
    "print(mx_df.columns)"
   ]
  }
 ],
 "metadata": {
  "kernelspec": {
   "display_name": ".venv",
   "language": "python",
   "name": "python3"
  },
  "language_info": {
   "codemirror_mode": {
    "name": "ipython",
    "version": 3
   },
   "file_extension": ".py",
   "mimetype": "text/x-python",
   "name": "python",
   "nbconvert_exporter": "python",
   "pygments_lexer": "ipython3",
   "version": "3.12.3"
  }
 },
 "nbformat": 4,
 "nbformat_minor": 5
}
