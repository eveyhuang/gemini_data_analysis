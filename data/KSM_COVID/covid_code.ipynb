{
 "cells": [
  {
   "cell_type": "code",
   "execution_count": 1,
   "metadata": {},
   "outputs": [],
   "source": [
    "import pandas as pd"
   ]
  },
  {
   "cell_type": "code",
   "execution_count": 2,
   "metadata": {},
   "outputs": [
    {
     "name": "stdout",
     "output_type": "stream",
     "text": [
      "Requirement already satisfied: pyreadstat in /Users/eveyhuang/Documents/NICO/.venv/lib/python3.12/site-packages (1.2.9)\n",
      "Requirement already satisfied: pandas>=1.2.0 in /Users/eveyhuang/Documents/NICO/.venv/lib/python3.12/site-packages (from pyreadstat) (2.2.3)\n",
      "Requirement already satisfied: numpy>=1.26.0 in /Users/eveyhuang/Documents/NICO/.venv/lib/python3.12/site-packages (from pandas>=1.2.0->pyreadstat) (2.2.2)\n",
      "Requirement already satisfied: python-dateutil>=2.8.2 in /Users/eveyhuang/Documents/NICO/.venv/lib/python3.12/site-packages (from pandas>=1.2.0->pyreadstat) (2.9.0.post0)\n",
      "Requirement already satisfied: pytz>=2020.1 in /Users/eveyhuang/Documents/NICO/.venv/lib/python3.12/site-packages (from pandas>=1.2.0->pyreadstat) (2025.1)\n",
      "Requirement already satisfied: tzdata>=2022.7 in /Users/eveyhuang/Documents/NICO/.venv/lib/python3.12/site-packages (from pandas>=1.2.0->pyreadstat) (2025.1)\n",
      "Requirement already satisfied: six>=1.5 in /Users/eveyhuang/Documents/NICO/.venv/lib/python3.12/site-packages (from python-dateutil>=2.8.2->pandas>=1.2.0->pyreadstat) (1.17.0)\n",
      "\n",
      "\u001b[1m[\u001b[0m\u001b[34;49mnotice\u001b[0m\u001b[1;39;49m]\u001b[0m\u001b[39;49m A new release of pip is available: \u001b[0m\u001b[31;49m25.0.1\u001b[0m\u001b[39;49m -> \u001b[0m\u001b[32;49m25.1.1\u001b[0m\n",
      "\u001b[1m[\u001b[0m\u001b[34;49mnotice\u001b[0m\u001b[1;39;49m]\u001b[0m\u001b[39;49m To update, run: \u001b[0m\u001b[32;49mpip install --upgrade pip\u001b[0m\n",
      "Note: you may need to restart the kernel to use updated packages.\n"
     ]
    }
   ],
   "source": [
    "pip install pyreadstat"
   ]
  },
  {
   "cell_type": "code",
   "execution_count": 3,
   "metadata": {},
   "outputs": [
    {
     "name": "stdout",
     "output_type": "stream",
     "text": [
      "                                 id  Tech  CurrentNegative  PastNegative  \\\n",
      "0  0CD5A01591584DE1940F418669198AEB   1.0              0.5          6.50   \n",
      "1                          1.20E+49   1.0              1.0          3.50   \n",
      "2                             10258   1.0             -1.0          5.00   \n",
      "3                             10408   1.0              0.5          4.00   \n",
      "4                             11293   1.5              0.5          3.75   \n",
      "\n",
      "   Commual  Engage  Defens  Question  PespTak  Simi  VaxImp  BoostImp  \\\n",
      "0      6.0     7.0     1.0       0.5      0.5   1.0     2.5       3.5   \n",
      "1      5.0     4.0     2.0       0.0      1.0   1.0     5.0       2.5   \n",
      "2      4.0     6.0     1.0       0.0      0.5   2.5     7.0       6.0   \n",
      "3      3.0     6.5     1.0       1.0      0.0   0.0     7.0       6.5   \n",
      "4      7.0     7.0     1.0       5.5      3.5   1.5     7.0       6.5   \n",
      "\n",
      "   CogComp  SelfOther  \n",
      "0      3.5       3.00  \n",
      "1      4.5       2.50  \n",
      "2      7.0       4.00  \n",
      "3      5.0       5.00  \n",
      "4      6.5       5.75  \n"
     ]
    }
   ],
   "source": [
    "file_path = 'human_coder.sav'\n",
    "hm_df = pd.read_spss(file_path)\n",
    "\n",
    "print(hm_df.head())"
   ]
  },
  {
   "cell_type": "code",
   "execution_count": null,
   "metadata": {},
   "outputs": [],
   "source": []
  },
  {
   "cell_type": "code",
   "execution_count": 4,
   "metadata": {},
   "outputs": [
    {
     "name": "stdout",
     "output_type": "stream",
     "text": [
      "['0CD5A01591584DE1940F418669198AEB' '1.20E+49' '10258' '10408' '11293'\n",
      " '11542' '13132' '13258' '13306' '13717' '13867' '14044' '15256' '15418'\n",
      " '15439' '15442' '15472' '15502' '15523' '15547' '15754' '15817' '15823'\n",
      " '15907' '15937' '16114' '16306' '16948' '17668' '17767' '17878'\n",
      " '180F3F79E0514EA8A0A0D2FA682C4294' '18268' '18274' '18277' '18670'\n",
      " '19012' '19324' '19396' '19423' '19993' '19999' '20005' '20041' '20047'\n",
      " '20269' '20344' '20551' '20689' '20809' '20908' '20914' '20950' '20971'\n",
      " '21001' '21007' '21103' '21184' '21193' '21277' '21316' '21337' '21364'\n",
      " '21370' '21436' '21448' '21646' '21652' '21724' '21826' '21832' '21850'\n",
      " '22042' '22054' '22654' '22861' '22876' '22879' '22927' '23311' '23419'\n",
      " '23461' '23719' '23767' '23842' '23863' '23887' '23995' '24268' '24304'\n",
      " '24307' '24394' '24424' '24460' '24676' '24811' '24919'\n",
      " '24BC3A44EAB247DD8A64EE8D7C02D0E5' '26629' '27220' '27490' '27514'\n",
      " '27589' '30259' '3046' '3049' '3082' '3166' '3229' '3283' '3307' '3310'\n",
      " '3322' '33265' '3349' '33661' '3370' '33823' '3406' '34345' '3511'\n",
      " '35233' '3526' '3535' '3553' '35689' '35875' '3643' '36817' '36868'\n",
      " '3688' '3694' '3715' '37261' '37447' '3754' '37558' '37564' '37855'\n",
      " '3811' '38227' '38242' '38647' '3868' '38872' '3901' '39043' '39076'\n",
      " '39184' '39229' '3925' '39280' '39364' '39382' '39385' '39409' '39424'\n",
      " '39637' '3970' '39928' '3A42B40B1AC84DC08935A0F55455F38E'\n",
      " '3B490B5082204B71BA8C946BD4FCC70E' '40084' '40198' '4039' '40561' '40624'\n",
      " '40627' '4102' '41041' '4132' '41392' '41443' '41449' '41734' '41965'\n",
      " '41986' '42223' '4240' '42472' '42532' '42589' '42709' '42712' '4276'\n",
      " '42763' '42772' '4294' '43069' '43174' '43234' '43288' '43396' '43564'\n",
      " '4357' '43582' '43702' '4378' '43792' '43921' '43927' '43948' '43975'\n",
      " '4402' '44038' '44188' '44278' '44287' '4429' '4444' '44500' '4456'\n",
      " '44560' '44626' '4516' '4552' '4588' '4780' '4858' '4981' '5011'\n",
      " '507075A75F704910B84D5123EADAD730' '5338' '5341' '5545' '5749' '5755'\n",
      " '5890' '5CB76BED4B3A4DC586B042B85960FE14'\n",
      " '5FAA82160042458792D27578E79D9C30' '6451'\n",
      " '68CDB46365634548A07C5D65711A65B3' '6DF63FC45D8B4884B57B897C94DB074A'\n",
      " '7123F1A8D2F343B4A62AD8E34A182FEE' '7492' '7633' '7642'\n",
      " '78CFD14BC60E4CD89845ED7BFCCD1A3A' '8.60E+07' '8014'\n",
      " '8781F039E57A430D99F8E2B1ADA9ECC1' '9089405D45634C35A798EC274EA35117'\n",
      " '9421' '9631' '9925' '9970' 'A3BE49A9E92C4E6DBBC9B6EA70CC9AA9'\n",
      " 'A5FA9A6634C74E909A03EF242A9E11CD' 'A7D0D4EB4A18495BB70754AA90E9A72B'\n",
      " 'AEF1CA9F241D49F6BA7BE542C3ADE07D' 'B4C98C85F2CE44B0803EFF51E87FBF73'\n",
      " 'B7D21927472C45B3866D10E6FB320AB8' 'C4303A5F65D041D391BB020BA40D77E6'\n",
      " 'E336C200D5724B1C821874B01A428571' 'E75AABBDA5CC4A219FDBE61855D36359'\n",
      " 'EBD8909E071444E9BAE6D7BEA6636060']\n"
     ]
    }
   ],
   "source": [
    "unique_ids = hm_df['id'].unique()\n",
    "print(unique_ids)"
   ]
  },
  {
   "cell_type": "code",
   "execution_count": 6,
   "metadata": {},
   "outputs": [
    {
     "name": "stdout",
     "output_type": "stream",
     "text": [
      "       id  Tech  CurrentNegative  PastNegative  Commual  Engage  Defens  \\\n",
      "56  21103   1.0              1.5           3.5      7.0     7.0     1.0   \n",
      "\n",
      "    Question  PespTak  Simi  VaxImp  BoostImp  CogComp  SelfOther  \n",
      "56       1.5      3.0   1.5     7.0       7.0      6.0        6.5  \n"
     ]
    }
   ],
   "source": [
    "row_21103 = hm_df[hm_df['id'] == '21103']\n",
    "print(row_21103)"
   ]
  },
  {
   "cell_type": "code",
   "execution_count": 5,
   "metadata": {},
   "outputs": [
    {
     "data": {
      "text/plain": [
       "256"
      ]
     },
     "execution_count": 5,
     "metadata": {},
     "output_type": "execute_result"
    }
   ],
   "source": [
    "len(unique_ids)"
   ]
  },
  {
   "cell_type": "code",
   "execution_count": 8,
   "metadata": {},
   "outputs": [
    {
     "data": {
      "text/plain": [
       "(256, 14)"
      ]
     },
     "execution_count": 8,
     "metadata": {},
     "output_type": "execute_result"
    }
   ],
   "source": [
    "hm_df.shape"
   ]
  }
 ],
 "metadata": {
  "kernelspec": {
   "display_name": ".venv",
   "language": "python",
   "name": "python3"
  },
  "language_info": {
   "codemirror_mode": {
    "name": "ipython",
    "version": 3
   },
   "file_extension": ".py",
   "mimetype": "text/x-python",
   "name": "python",
   "nbconvert_exporter": "python",
   "pygments_lexer": "ipython3",
   "version": "3.12.3"
  }
 },
 "nbformat": 4,
 "nbformat_minor": 2
}
